{
 "cells": [
  {
   "cell_type": "markdown",
   "metadata": {},
   "source": [
    "# Title"
   ]
  },
  {
   "cell_type": "code",
   "execution_count": 1,
   "metadata": {},
   "outputs": [],
   "source": [
    "if (FALSE){\n",
    "    install.packages(\"igraph\")\n",
    "}"
   ]
  },
  {
   "cell_type": "code",
   "execution_count": 2,
   "metadata": {},
   "outputs": [
    {
     "name": "stderr",
     "output_type": "stream",
     "text": [
      "\n",
      "Attaching package: 'igraph'\n",
      "\n",
      "The following objects are masked from 'package:stats':\n",
      "\n",
      "    decompose, spectrum\n",
      "\n",
      "The following object is masked from 'package:base':\n",
      "\n",
      "    union\n",
      "\n"
     ]
    }
   ],
   "source": [
    "library(igraph)"
   ]
  },
  {
   "cell_type": "markdown",
   "metadata": {},
   "source": [
    "## Test"
   ]
  },
  {
   "cell_type": "code",
   "execution_count": 9,
   "metadata": {},
   "outputs": [],
   "source": [
    "myN <- 100\n",
    "myP <- 0.1"
   ]
  },
  {
   "cell_type": "code",
   "execution_count": 10,
   "metadata": {},
   "outputs": [],
   "source": [
    "testGraph <- sample_gnp(myN, myP, directed = TRUE)"
   ]
  },
  {
   "cell_type": "code",
   "execution_count": 11,
   "metadata": {},
   "outputs": [
    {
     "data": {
      "text/plain": [
       "IGRAPH ca8e72e D--- 100 1021 -- Erdos renyi (gnp) graph\n",
       "+ attr: name (g/c), type (g/c), loops (g/l), p (g/n)\n",
       "+ edges from ca8e72e:\n",
       " [1]  6->  1 33->  1 43->  1 66->  1 74->  1 89->  1  6->  2 22->  2 29->  2\n",
       "[10] 34->  2 54->  2 64->  2 82->  2 84->  2 90->  2 99->  2  6->  3 11->  3\n",
       "[19] 21->  3 29->  3 30->  3 40->  3 45->  3 47->  3 59->  3 74->  3 80->  3\n",
       "[28]  7->  4  9->  4 14->  4 17->  4 25->  4 61->  4 64->  4 71->  4 86->  4\n",
       "[37] 97->  4  4->  5 16->  5 19->  5 23->  5 24->  5 26->  5 30->  5 39->  5\n",
       "[46] 52->  5 63->  5 89->  5 97->  5 99->  5  1->  6  4->  6 29->  6 35->  6\n",
       "[55] 40->  6 46->  6 55->  6 65->  6 69->  6  7->100 40->  7 45->  7 48->  7\n",
       "[64] 55->  7 79->  7 86->  7 88->  7\n",
       "+ ... omitted several edges"
      ]
     },
     "metadata": {},
     "output_type": "display_data"
    }
   ],
   "source": [
    "testGraph"
   ]
  },
  {
   "cell_type": "code",
   "execution_count": 12,
   "metadata": {},
   "outputs": [],
   "source": [
    "censusCounts <- triad_census(testGraph)"
   ]
  },
  {
   "cell_type": "code",
   "execution_count": 13,
   "metadata": {},
   "outputs": [
    {
     "data": {
      "text/html": [
       "<ol class=list-inline>\n",
       "\t<li>84627</li>\n",
       "\t<li>57348</li>\n",
       "\t<li>3855</li>\n",
       "\t<li>3149</li>\n",
       "\t<li>3232</li>\n",
       "\t<li>6493</li>\n",
       "\t<li>904</li>\n",
       "\t<li>906</li>\n",
       "\t<li>709</li>\n",
       "\t<li>222</li>\n",
       "\t<li>49</li>\n",
       "\t<li>45</li>\n",
       "\t<li>45</li>\n",
       "\t<li>107</li>\n",
       "\t<li>9</li>\n",
       "\t<li>0</li>\n",
       "</ol>\n"
      ],
      "text/latex": [
       "\\begin{enumerate*}\n",
       "\\item 84627\n",
       "\\item 57348\n",
       "\\item 3855\n",
       "\\item 3149\n",
       "\\item 3232\n",
       "\\item 6493\n",
       "\\item 904\n",
       "\\item 906\n",
       "\\item 709\n",
       "\\item 222\n",
       "\\item 49\n",
       "\\item 45\n",
       "\\item 45\n",
       "\\item 107\n",
       "\\item 9\n",
       "\\item 0\n",
       "\\end{enumerate*}\n"
      ],
      "text/markdown": [
       "1. 84627\n",
       "2. 57348\n",
       "3. 3855\n",
       "4. 3149\n",
       "5. 3232\n",
       "6. 6493\n",
       "7. 904\n",
       "8. 906\n",
       "9. 709\n",
       "10. 222\n",
       "11. 49\n",
       "12. 45\n",
       "13. 45\n",
       "14. 107\n",
       "15. 9\n",
       "16. 0\n",
       "\n",
       "\n"
      ],
      "text/plain": [
       " [1] 84627 57348  3855  3149  3232  6493   904   906   709   222    49    45\n",
       "[13]    45   107     9     0"
      ]
     },
     "metadata": {},
     "output_type": "display_data"
    }
   ],
   "source": [
    "censusCounts"
   ]
  },
  {
   "cell_type": "code",
   "execution_count": 14,
   "metadata": {},
   "outputs": [
    {
     "data": {
      "text/html": [
       "161700"
      ],
      "text/latex": [
       "161700"
      ],
      "text/markdown": [
       "161700"
      ],
      "text/plain": [
       "[1] 161700"
      ]
     },
     "metadata": {},
     "output_type": "display_data"
    }
   ],
   "source": [
    "sum(censusCounts)"
   ]
  },
  {
   "cell_type": "code",
   "execution_count": 15,
   "metadata": {},
   "outputs": [
    {
     "data": {
      "text/html": [
       "161700"
      ],
      "text/latex": [
       "161700"
      ],
      "text/markdown": [
       "161700"
      ],
      "text/plain": [
       "[1] 161700"
      ]
     },
     "metadata": {},
     "output_type": "display_data"
    }
   ],
   "source": [
    "choose(myN, 3)"
   ]
  },
  {
   "cell_type": "code",
   "execution_count": 16,
   "metadata": {},
   "outputs": [],
   "source": [
    "motifCounts <- motifs(testGraph)"
   ]
  },
  {
   "cell_type": "code",
   "execution_count": 17,
   "metadata": {},
   "outputs": [
    {
     "data": {
      "text/html": [
       "<ol class=list-inline>\n",
       "\t<li>&lt;NA&gt;</li>\n",
       "\t<li>&lt;NA&gt;</li>\n",
       "\t<li>3232</li>\n",
       "\t<li>&lt;NA&gt;</li>\n",
       "\t<li>6493</li>\n",
       "\t<li>904</li>\n",
       "\t<li>3149</li>\n",
       "\t<li>709</li>\n",
       "\t<li>45</li>\n",
       "\t<li>906</li>\n",
       "\t<li>49</li>\n",
       "\t<li>222</li>\n",
       "\t<li>107</li>\n",
       "\t<li>45</li>\n",
       "\t<li>9</li>\n",
       "\t<li>0</li>\n",
       "</ol>\n"
      ],
      "text/latex": [
       "\\begin{enumerate*}\n",
       "\\item <NA>\n",
       "\\item <NA>\n",
       "\\item 3232\n",
       "\\item <NA>\n",
       "\\item 6493\n",
       "\\item 904\n",
       "\\item 3149\n",
       "\\item 709\n",
       "\\item 45\n",
       "\\item 906\n",
       "\\item 49\n",
       "\\item 222\n",
       "\\item 107\n",
       "\\item 45\n",
       "\\item 9\n",
       "\\item 0\n",
       "\\end{enumerate*}\n"
      ],
      "text/markdown": [
       "1. &lt;NA&gt;\n",
       "2. &lt;NA&gt;\n",
       "3. 3232\n",
       "4. &lt;NA&gt;\n",
       "5. 6493\n",
       "6. 904\n",
       "7. 3149\n",
       "8. 709\n",
       "9. 45\n",
       "10. 906\n",
       "11. 49\n",
       "12. 222\n",
       "13. 107\n",
       "14. 45\n",
       "15. 9\n",
       "16. 0\n",
       "\n",
       "\n"
      ],
      "text/plain": [
       " [1]   NA   NA 3232   NA 6493  904 3149  709   45  906   49  222  107   45    9\n",
       "[16]    0"
      ]
     },
     "metadata": {},
     "output_type": "display_data"
    }
   ],
   "source": [
    "motifCounts"
   ]
  },
  {
   "cell_type": "code",
   "execution_count": 21,
   "metadata": {},
   "outputs": [
    {
     "data": {
      "text/html": [
       "15870"
      ],
      "text/latex": [
       "15870"
      ],
      "text/markdown": [
       "15870"
      ],
      "text/plain": [
       "[1] 15870"
      ]
     },
     "metadata": {},
     "output_type": "display_data"
    }
   ],
   "source": [
    "sum(motifCounts[c(F,F,T,F,T,T,T,T,T,T,T,T,T,T,T,T)])"
   ]
  },
  {
   "cell_type": "markdown",
   "metadata": {},
   "source": [
    "## Female"
   ]
  },
  {
   "cell_type": "code",
   "execution_count": 8,
   "metadata": {},
   "outputs": [],
   "source": [
    "myGraphFemale <- read_graph(\"D:\\\\2018 CorpNet\\\\TestCensusCountingMethods\\\\full_graph_female.tsv\", format=\"edgelist\", directed=FALSE)"
   ]
  },
  {
   "cell_type": "code",
   "execution_count": 9,
   "metadata": {},
   "outputs": [
    {
     "data": {
      "text/plain": [
       "IGRAPH d164b74 U--- 1627 1454 -- \n",
       "+ edges from d164b74:\n",
       " [1]  1-- 387  2--1067  3--1305  4-- 759  5-- 168  5--1018  6--1563  6--1148\n",
       " [9]  7-- 857  8-- 773  8-- 774  9--1112  9-- 110 10--  11 10--  12 11--  12\n",
       "[17] 13-- 989 14--1556 14--1147 15-- 738 16-- 478 17-- 936 18-- 589 18-- 590\n",
       "[25] 18-- 815 19--  20 21--1331 22-- 742 23-- 277 23-- 795 23-- 879 24-- 179\n",
       "[33] 25-- 194 25--1113 26--  27 26-- 970 27-- 970 28--1306 28--1095 28-- 516\n",
       "[41] 28--1091 29--1496 29--  30 30--1496 31--1097 31-- 854 32-- 452 32-- 451\n",
       "[49] 33--1347 33-- 775 33-- 866 34--1479 35--1532 36--1118 37-- 527 37-- 526\n",
       "[57] 38--1410 38--  39 38-- 621 39-- 621 39--1410 40-- 186 40-- 464 40--1265\n",
       "[65] 40--1110 41-- 288 41-- 885 42-- 834 43--1363 43-- 927 43--1180 43-- 105\n",
       "+ ... omitted several edges"
      ]
     },
     "metadata": {},
     "output_type": "display_data"
    }
   ],
   "source": [
    "myGraphFemale"
   ]
  },
  {
   "cell_type": "code",
   "execution_count": 10,
   "metadata": {},
   "outputs": [
    {
     "name": "stderr",
     "output_type": "stream",
     "text": [
      "Warning message in triad_census(myGraphFemale):\n",
      "\"At motifs.c:1052 :Triad census called on an undirected graph\""
     ]
    }
   ],
   "source": [
    "censusCountsFemale <- triad_census(myGraphFemale)"
   ]
  },
  {
   "cell_type": "code",
   "execution_count": 19,
   "metadata": {},
   "outputs": [
    {
     "data": {
      "text/html": [
       "<ol class=list-inline>\n",
       "\t<li>714129801</li>\n",
       "\t<li>0</li>\n",
       "\t<li>2358949</li>\n",
       "\t<li>0</li>\n",
       "\t<li>0</li>\n",
       "\t<li>0</li>\n",
       "\t<li>0</li>\n",
       "\t<li>0</li>\n",
       "\t<li>0</li>\n",
       "\t<li>0</li>\n",
       "\t<li>324</li>\n",
       "\t<li>0</li>\n",
       "\t<li>0</li>\n",
       "\t<li>0</li>\n",
       "\t<li>0</li>\n",
       "\t<li>1051</li>\n",
       "</ol>\n"
      ],
      "text/latex": [
       "\\begin{enumerate*}\n",
       "\\item 714129801\n",
       "\\item 0\n",
       "\\item 2358949\n",
       "\\item 0\n",
       "\\item 0\n",
       "\\item 0\n",
       "\\item 0\n",
       "\\item 0\n",
       "\\item 0\n",
       "\\item 0\n",
       "\\item 324\n",
       "\\item 0\n",
       "\\item 0\n",
       "\\item 0\n",
       "\\item 0\n",
       "\\item 1051\n",
       "\\end{enumerate*}\n"
      ],
      "text/markdown": [
       "1. 714129801\n",
       "2. 0\n",
       "3. 2358949\n",
       "4. 0\n",
       "5. 0\n",
       "6. 0\n",
       "7. 0\n",
       "8. 0\n",
       "9. 0\n",
       "10. 0\n",
       "11. 324\n",
       "12. 0\n",
       "13. 0\n",
       "14. 0\n",
       "15. 0\n",
       "16. 1051\n",
       "\n",
       "\n"
      ],
      "text/plain": [
       " [1] 714129801         0   2358949         0         0         0         0\n",
       " [8]         0         0         0       324         0         0         0\n",
       "[15]         0      1051"
      ]
     },
     "metadata": {},
     "output_type": "display_data"
    }
   ],
   "source": [
    "censusCountsFemale"
   ]
  },
  {
   "cell_type": "code",
   "execution_count": 12,
   "metadata": {},
   "outputs": [
    {
     "data": {
      "text/html": [
       "716490125"
      ],
      "text/latex": [
       "716490125"
      ],
      "text/markdown": [
       "716490125"
      ],
      "text/plain": [
       "[1] 716490125"
      ]
     },
     "metadata": {},
     "output_type": "display_data"
    }
   ],
   "source": [
    "sum(censusCountsFemale)"
   ]
  },
  {
   "cell_type": "code",
   "execution_count": 13,
   "metadata": {},
   "outputs": [
    {
     "data": {
      "text/html": [
       "716490125"
      ],
      "text/latex": [
       "716490125"
      ],
      "text/markdown": [
       "716490125"
      ],
      "text/plain": [
       "[1] 716490125"
      ]
     },
     "metadata": {},
     "output_type": "display_data"
    }
   ],
   "source": [
    "choose(1627, 3)"
   ]
  },
  {
   "cell_type": "code",
   "execution_count": 40,
   "metadata": {},
   "outputs": [
    {
     "data": {
      "text/html": [
       "3656305876"
      ],
      "text/latex": [
       "3656305876"
      ],
      "text/markdown": [
       "3656305876"
      ],
      "text/plain": [
       "[1] 3656305876"
      ]
     },
     "metadata": {},
     "output_type": "display_data"
    }
   ],
   "source": [
    "714129801 + choose(2801, 3) - choose(1627, 3)"
   ]
  },
  {
   "cell_type": "markdown",
   "metadata": {},
   "source": [
    "## Male"
   ]
  },
  {
   "cell_type": "code",
   "execution_count": 26,
   "metadata": {},
   "outputs": [],
   "source": [
    "myGraphMale <- read_graph(\"D:\\\\2018 CorpNet\\\\TestCensusCountingMethods\\\\full_graph_male.tsv\", format=\"edgelist\", directed=FALSE)"
   ]
  },
  {
   "cell_type": "code",
   "execution_count": 27,
   "metadata": {},
   "outputs": [
    {
     "data": {
      "text/plain": [
       "IGRAPH 278a2ab U--- 10423 16697 -- \n",
       "+ edges from 278a2ab:\n",
       " [1]  1-- 2526  1-- 8245  1-- 4772  2-- 4994  2--    5  2-- 2917  2--    6\n",
       " [8]  2--    7  2-- 9169  3-- 4374  4-- 4968  5-- 9169  5-- 2917  5--    6\n",
       "[15]  5--    7  5-- 4994  6-- 9169  6-- 2917  6--    7  6-- 4994  7-- 4994\n",
       "[22]  7-- 2917  7-- 9169  8-- 8611  8-- 8709  8--  757  8-- 4840  9-- 4843\n",
       "[29] 10--10396 10--10395 12-- 4697 12-- 8976 13-- 3204 13-- 8609 14-- 7985\n",
       "[36] 14--  553 14--  552 14-- 8975 15-- 5414 15-- 3115 17-- 4598 17-- 1671\n",
       "[43] 17-- 8449 17--10112 18--10249 18-- 8785 19-- 5527 19-- 5204 19-- 8586\n",
       "[50] 19-- 5224 19-- 7954 19-- 5528 19-- 3885 19-- 3662 20-- 4167 20-- 4490\n",
       "[57] 21-- 3201 21-- 1728 21-- 4191 22-- 6169 22-- 6168 22-- 6167 22--  728\n",
       "+ ... omitted several edges"
      ]
     },
     "metadata": {},
     "output_type": "display_data"
    }
   ],
   "source": [
    "myGraphMale"
   ]
  },
  {
   "cell_type": "code",
   "execution_count": 28,
   "metadata": {},
   "outputs": [
    {
     "name": "stderr",
     "output_type": "stream",
     "text": [
      "Warning message in triad_census(myGraphMale):\n",
      "\"At motifs.c:1052 :Triad census called on an undirected graph\""
     ]
    }
   ],
   "source": [
    "censusCountsMale <- triad_census(myGraphMale)"
   ]
  },
  {
   "cell_type": "code",
   "execution_count": 29,
   "metadata": {},
   "outputs": [
    {
     "data": {
      "text/html": [
       "<ol class=list-inline>\n",
       "\t<li>188495676127</li>\n",
       "\t<li>0</li>\n",
       "\t<li>173888676</li>\n",
       "\t<li>0</li>\n",
       "\t<li>0</li>\n",
       "\t<li>0</li>\n",
       "\t<li>0</li>\n",
       "\t<li>0</li>\n",
       "\t<li>0</li>\n",
       "\t<li>0</li>\n",
       "\t<li>25343</li>\n",
       "\t<li>0</li>\n",
       "\t<li>0</li>\n",
       "\t<li>0</li>\n",
       "\t<li>0</li>\n",
       "\t<li>20025</li>\n",
       "</ol>\n"
      ],
      "text/latex": [
       "\\begin{enumerate*}\n",
       "\\item 188495676127\n",
       "\\item 0\n",
       "\\item 173888676\n",
       "\\item 0\n",
       "\\item 0\n",
       "\\item 0\n",
       "\\item 0\n",
       "\\item 0\n",
       "\\item 0\n",
       "\\item 0\n",
       "\\item 25343\n",
       "\\item 0\n",
       "\\item 0\n",
       "\\item 0\n",
       "\\item 0\n",
       "\\item 20025\n",
       "\\end{enumerate*}\n"
      ],
      "text/markdown": [
       "1. 188495676127\n",
       "2. 0\n",
       "3. 173888676\n",
       "4. 0\n",
       "5. 0\n",
       "6. 0\n",
       "7. 0\n",
       "8. 0\n",
       "9. 0\n",
       "10. 0\n",
       "11. 25343\n",
       "12. 0\n",
       "13. 0\n",
       "14. 0\n",
       "15. 0\n",
       "16. 20025\n",
       "\n",
       "\n"
      ],
      "text/plain": [
       " [1] 188495676127            0    173888676            0            0\n",
       " [6]            0            0            0            0            0\n",
       "[11]        25343            0            0            0            0\n",
       "[16]        20025"
      ]
     },
     "metadata": {},
     "output_type": "display_data"
    }
   ],
   "source": [
    "censusCountsMale"
   ]
  },
  {
   "cell_type": "code",
   "execution_count": 30,
   "metadata": {},
   "outputs": [
    {
     "data": {
      "text/html": [
       "188669610171"
      ],
      "text/latex": [
       "188669610171"
      ],
      "text/markdown": [
       "188669610171"
      ],
      "text/plain": [
       "[1] 188669610171"
      ]
     },
     "metadata": {},
     "output_type": "display_data"
    }
   ],
   "source": [
    "sum(censusCountsMale)"
   ]
  },
  {
   "cell_type": "code",
   "execution_count": 31,
   "metadata": {},
   "outputs": [
    {
     "data": {
      "text/html": [
       "188669610171"
      ],
      "text/latex": [
       "188669610171"
      ],
      "text/markdown": [
       "188669610171"
      ],
      "text/plain": [
       "[1] 188669610171"
      ]
     },
     "metadata": {},
     "output_type": "display_data"
    }
   ],
   "source": [
    "choose(10423, 3)"
   ]
  },
  {
   "cell_type": "markdown",
   "metadata": {},
   "source": [
    "## Full"
   ]
  },
  {
   "cell_type": "code",
   "execution_count": 32,
   "metadata": {},
   "outputs": [],
   "source": [
    "myGraphFull <- read_graph(\"D:\\\\2018 CorpNet\\\\TestCensusCountingMethods\\\\full_graph.tsv\", format=\"edgelist\", directed=FALSE)"
   ]
  },
  {
   "cell_type": "code",
   "execution_count": 33,
   "metadata": {},
   "outputs": [
    {
     "data": {
      "text/plain": [
       "IGRAPH 2890d49 U--- 13224 26416 -- \n",
       "+ edges from 2890d49:\n",
       " [1]  1-- 2884  1--10236  1-- 5461  2-- 5726  2--    5  2-- 3319  2--    6\n",
       " [8]  2--    7  2--11466  3-- 4993  4-- 5698  4-- 5699  5--11466  5-- 3319\n",
       "[15]  5--    6  5--    7  5-- 5726  6--11466  6-- 3319  6--    7  6-- 5726\n",
       "[22]  7-- 5726  7-- 3319  7--11466  8-- 6477  8--10708  8--10840  8--  856\n",
       "[29]  8-- 5540  9-- 5544 10--10544 10--13184 10--13183 11-- 9312 12-- 5374\n",
       "[36] 12--11215 13-- 3646 13--10704 14-- 9897 14--  630 14--  629 14--11214\n",
       "[43] 15--11763 15-- 6259 15-- 6258 15-- 3545 16-- 5385 17-- 5252 17-- 1895\n",
       "[50] 17--10495 17--12791 17-- 9841 18--12985 18--10948 19-- 6443 19-- 5990\n",
       "[57] 19--10678 19-- 6011 19-- 9854 19-- 6444 19-- 4433 19-- 4174 20-- 4757\n",
       "+ ... omitted several edges"
      ]
     },
     "metadata": {},
     "output_type": "display_data"
    }
   ],
   "source": [
    "myGraphFull"
   ]
  },
  {
   "cell_type": "code",
   "execution_count": 34,
   "metadata": {},
   "outputs": [
    {
     "name": "stderr",
     "output_type": "stream",
     "text": [
      "Warning message in triad_census(myGraphFull):\n",
      "\"At motifs.c:1052 :Triad census called on an undirected graph\""
     ]
    }
   ],
   "source": [
    "censusCountsFull <- triad_census(myGraphFull)"
   ]
  },
  {
   "cell_type": "code",
   "execution_count": 35,
   "metadata": {},
   "outputs": [
    {
     "data": {
      "text/html": [
       "<ol class=list-inline>\n",
       "\t<li>384986107310</li>\n",
       "\t<li>0</li>\n",
       "\t<li>349058361</li>\n",
       "\t<li>0</li>\n",
       "\t<li>0</li>\n",
       "\t<li>0</li>\n",
       "\t<li>0</li>\n",
       "\t<li>0</li>\n",
       "\t<li>0</li>\n",
       "\t<li>0</li>\n",
       "\t<li>42668</li>\n",
       "\t<li>0</li>\n",
       "\t<li>0</li>\n",
       "\t<li>0</li>\n",
       "\t<li>0</li>\n",
       "\t<li>42885</li>\n",
       "</ol>\n"
      ],
      "text/latex": [
       "\\begin{enumerate*}\n",
       "\\item 384986107310\n",
       "\\item 0\n",
       "\\item 349058361\n",
       "\\item 0\n",
       "\\item 0\n",
       "\\item 0\n",
       "\\item 0\n",
       "\\item 0\n",
       "\\item 0\n",
       "\\item 0\n",
       "\\item 42668\n",
       "\\item 0\n",
       "\\item 0\n",
       "\\item 0\n",
       "\\item 0\n",
       "\\item 42885\n",
       "\\end{enumerate*}\n"
      ],
      "text/markdown": [
       "1. 384986107310\n",
       "2. 0\n",
       "3. 349058361\n",
       "4. 0\n",
       "5. 0\n",
       "6. 0\n",
       "7. 0\n",
       "8. 0\n",
       "9. 0\n",
       "10. 0\n",
       "11. 42668\n",
       "12. 0\n",
       "13. 0\n",
       "14. 0\n",
       "15. 0\n",
       "16. 42885\n",
       "\n",
       "\n"
      ],
      "text/plain": [
       " [1] 384986107310            0    349058361            0            0\n",
       " [6]            0            0            0            0            0\n",
       "[11]        42668            0            0            0            0\n",
       "[16]        42885"
      ]
     },
     "metadata": {},
     "output_type": "display_data"
    }
   ],
   "source": [
    "censusCountsFull"
   ]
  },
  {
   "cell_type": "code",
   "execution_count": 36,
   "metadata": {},
   "outputs": [
    {
     "data": {
      "text/html": [
       "385335251224"
      ],
      "text/latex": [
       "385335251224"
      ],
      "text/markdown": [
       "385335251224"
      ],
      "text/plain": [
       "[1] 385335251224"
      ]
     },
     "metadata": {},
     "output_type": "display_data"
    }
   ],
   "source": [
    "sum(censusCountsFull)"
   ]
  },
  {
   "cell_type": "code",
   "execution_count": 37,
   "metadata": {},
   "outputs": [
    {
     "data": {
      "text/html": [
       "385335251224"
      ],
      "text/latex": [
       "385335251224"
      ],
      "text/markdown": [
       "385335251224"
      ],
      "text/plain": [
       "[1] 385335251224"
      ]
     },
     "metadata": {},
     "output_type": "display_data"
    }
   ],
   "source": [
    "choose(13224, 3)"
   ]
  },
  {
   "cell_type": "code",
   "execution_count": 38,
   "metadata": {},
   "outputs": [],
   "source": [
    "censusCountsMixed=censusCountsFull-censusCountsMale-censusCountsFemale"
   ]
  },
  {
   "cell_type": "code",
   "execution_count": 39,
   "metadata": {},
   "outputs": [
    {
     "data": {
      "text/html": [
       "<ol class=list-inline>\n",
       "\t<li>195776301382</li>\n",
       "\t<li>0</li>\n",
       "\t<li>172810736</li>\n",
       "\t<li>0</li>\n",
       "\t<li>0</li>\n",
       "\t<li>0</li>\n",
       "\t<li>0</li>\n",
       "\t<li>0</li>\n",
       "\t<li>0</li>\n",
       "\t<li>0</li>\n",
       "\t<li>17001</li>\n",
       "\t<li>0</li>\n",
       "\t<li>0</li>\n",
       "\t<li>0</li>\n",
       "\t<li>0</li>\n",
       "\t<li>21809</li>\n",
       "</ol>\n"
      ],
      "text/latex": [
       "\\begin{enumerate*}\n",
       "\\item 195776301382\n",
       "\\item 0\n",
       "\\item 172810736\n",
       "\\item 0\n",
       "\\item 0\n",
       "\\item 0\n",
       "\\item 0\n",
       "\\item 0\n",
       "\\item 0\n",
       "\\item 0\n",
       "\\item 17001\n",
       "\\item 0\n",
       "\\item 0\n",
       "\\item 0\n",
       "\\item 0\n",
       "\\item 21809\n",
       "\\end{enumerate*}\n"
      ],
      "text/markdown": [
       "1. 195776301382\n",
       "2. 0\n",
       "3. 172810736\n",
       "4. 0\n",
       "5. 0\n",
       "6. 0\n",
       "7. 0\n",
       "8. 0\n",
       "9. 0\n",
       "10. 0\n",
       "11. 17001\n",
       "12. 0\n",
       "13. 0\n",
       "14. 0\n",
       "15. 0\n",
       "16. 21809\n",
       "\n",
       "\n"
      ],
      "text/plain": [
       " [1] 195776301382            0    172810736            0            0\n",
       " [6]            0            0            0            0            0\n",
       "[11]        17001            0            0            0            0\n",
       "[16]        21809"
      ]
     },
     "metadata": {},
     "output_type": "display_data"
    }
   ],
   "source": [
    "censusCountsMixed"
   ]
  },
  {
   "cell_type": "code",
   "execution_count": 42,
   "metadata": {},
   "outputs": [
    {
     "data": {
      "text/html": [
       "192834125307"
      ],
      "text/latex": [
       "192834125307"
      ],
      "text/markdown": [
       "192834125307"
      ],
      "text/plain": [
       "[1] 192834125307"
      ]
     },
     "metadata": {},
     "output_type": "display_data"
    }
   ],
   "source": [
    "195776301382 - choose(2801, 3) + choose(1627, 3)"
   ]
  },
  {
   "cell_type": "markdown",
   "metadata": {},
   "source": [
    "End of _Jupyter Notebook_."
   ]
  }
 ],
 "metadata": {
  "kernelspec": {
   "display_name": "R",
   "language": "R",
   "name": "ir"
  },
  "language_info": {
   "codemirror_mode": "r",
   "file_extension": ".r",
   "mimetype": "text/x-r-source",
   "name": "R",
   "pygments_lexer": "r",
   "version": "3.5.1"
  }
 },
 "nbformat": 4,
 "nbformat_minor": 2
}
