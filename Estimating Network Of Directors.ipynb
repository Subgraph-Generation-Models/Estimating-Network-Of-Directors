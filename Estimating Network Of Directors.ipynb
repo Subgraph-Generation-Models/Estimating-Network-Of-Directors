{
 "cells": [
  {
   "cell_type": "markdown",
   "metadata": {},
   "source": [
    "# Title"
   ]
  },
  {
   "cell_type": "code",
   "execution_count": null,
   "metadata": {},
   "outputs": [],
   "source": [
    "require(\"igraph\")\n",
    "require(stats4)"
   ]
  },
  {
   "cell_type": "code",
   "execution_count": null,
   "metadata": {},
   "outputs": [],
   "source": [
    "nodeList <- read.table(\"D:\\\\2018 CorpNet\\\\Estimating-Network-Of-Directors\\\\Data\\\\nodelist.tsv\")\n",
    "#nodeList <- data.frame(t(matrix(c(1, 0, 2, 0, 3, 0, 4, 0, 5, 0, 6, 1, 7, 1, 8, 1, 9, 1, 10, 1), nrow=2, ncol=10)))\n",
    "nodeList"
   ]
  },
  {
   "cell_type": "code",
   "execution_count": null,
   "metadata": {},
   "outputs": [],
   "source": [
    "femaleIDs <- nodeList[1][nodeList[2]==0]\n",
    "maleIDs <- nodeList[1][nodeList[2]==1]\n",
    "femaleIDs\n",
    "maleIDs"
   ]
  },
  {
   "cell_type": "code",
   "execution_count": null,
   "metadata": {},
   "outputs": [],
   "source": [
    "nTotal <- nrow(nodeList[2])\n",
    "nFemales <- length(femaleIDs)\n",
    "nMales <- length(maleIDs)\n",
    "nTotal\n",
    "nFemales\n",
    "nMales"
   ]
  },
  {
   "cell_type": "code",
   "execution_count": null,
   "metadata": {},
   "outputs": [],
   "source": [
    "edgeList <- read.table(\"D:\\\\2018 CorpNet\\\\Estimating-Network-Of-Directors\\\\Data\\\\full_graph.tsv\")\n",
    "colnames(edgeList) <- c(\"X1\", \"X2\")\n",
    "#edgeList <- data.frame(t(matrix(c(2,3,2,4,3,4,3,7,4,7,5,7,5,8,5,9,8,9), nrow=2, ncol=9)))\n",
    "edgeList <- unique(rbind(edgeList, data.frame(cbind(edgeList[,2], edgeList[,1]))))\n",
    "edgeList"
   ]
  },
  {
   "cell_type": "code",
   "execution_count": null,
   "metadata": {},
   "outputs": [],
   "source": [
    "edgeListFemaleToFemale <- edgeList[edgeList[,1] %in% femaleIDs & edgeList[,2] %in% femaleIDs,]\n",
    "edgeListFemaleToFemale"
   ]
  },
  {
   "cell_type": "code",
   "execution_count": null,
   "metadata": {},
   "outputs": [],
   "source": [
    "edgeListFemaleToMale <- edgeList[edgeList[,1] %in% femaleIDs & edgeList[,2] %in% maleIDs,]\n",
    "edgeListFemaleToMale"
   ]
  },
  {
   "cell_type": "code",
   "execution_count": null,
   "metadata": {},
   "outputs": [],
   "source": [
    "edgeListMaleToMale <- edgeList[edgeList[,1] %in% maleIDs & edgeList[,2] %in% maleIDs,]\n",
    "edgeListMaleToMale"
   ]
  },
  {
   "cell_type": "code",
   "execution_count": null,
   "metadata": {},
   "outputs": [],
   "source": [
    "edgeListFemaleToBoth <- edgeList[edgeList[,1] %in% femaleIDs,]\n",
    "edgeListFemaleToBoth"
   ]
  },
  {
   "cell_type": "code",
   "execution_count": null,
   "metadata": {},
   "outputs": [],
   "source": [
    "edgeListBothToBoth <- edgeList[(edgeList[,1] %in% femaleIDs & edgeList[,2] %in% femaleIDs) | (edgeList[,1] %in% maleIDs & edgeList[,2] %in% maleIDs),]\n",
    "edgeListBothToBoth"
   ]
  },
  {
   "cell_type": "code",
   "execution_count": null,
   "metadata": {},
   "outputs": [],
   "source": [
    "edgeListMaleToBoth <- edgeList[edgeList[,2] %in% maleIDs,]\n",
    "edgeListMaleToBoth"
   ]
  },
  {
   "cell_type": "code",
   "execution_count": null,
   "metadata": {},
   "outputs": [],
   "source": [
    "edgeListAll <- edgeList[edgeList[,1] %in% femaleIDs | (edgeList[,1] %in% maleIDs & edgeList[,2] %in% maleIDs),]\n",
    "edgeListAll"
   ]
  },
  {
   "cell_type": "code",
   "execution_count": null,
   "metadata": {},
   "outputs": [],
   "source": [
    "edgeCount <- nrow(edgeList)/2\n",
    "edgeCountFemaleToFemale <- nrow(edgeListFemaleToFemale)/2\n",
    "edgeCountFemaleToMale <- nrow(edgeListFemaleToMale)\n",
    "edgeCountMaleToMale <- nrow(edgeListMaleToMale)/2\n",
    "edgeCount\n",
    "edgeCountFemaleToFemale\n",
    "edgeCountFemaleToMale\n",
    "edgeCountMaleToMale"
   ]
  },
  {
   "cell_type": "code",
   "execution_count": null,
   "metadata": {},
   "outputs": [],
   "source": [
    "graphFemaleToFemale <- graph_from_data_frame(edgeListFemaleToFemale, directed=TRUE, vertices=nodeList)\n",
    "graphFemaleToFemale"
   ]
  },
  {
   "cell_type": "code",
   "execution_count": null,
   "metadata": {},
   "outputs": [],
   "source": [
    "graphFemaleToMale <- graph_from_data_frame(edgeListFemaleToMale, directed=TRUE, vertices=nodeList)\n",
    "graphFemaleToMale"
   ]
  },
  {
   "cell_type": "code",
   "execution_count": null,
   "metadata": {},
   "outputs": [],
   "source": [
    "graphMaleToMale <- graph_from_data_frame(edgeListMaleToMale, directed=TRUE, vertices=nodeList)\n",
    "graphMaleToMale"
   ]
  },
  {
   "cell_type": "code",
   "execution_count": null,
   "metadata": {},
   "outputs": [],
   "source": [
    "graphFemaleToBoth <- graph_from_data_frame(edgeListFemaleToBoth, directed=TRUE, vertices=nodeList)\n",
    "graphFemaleToBoth"
   ]
  },
  {
   "cell_type": "code",
   "execution_count": null,
   "metadata": {},
   "outputs": [],
   "source": [
    "graphBothToBoth <- graph_from_data_frame(edgeListBothToBoth, directed=TRUE, vertices=nodeList)\n",
    "graphBothToBoth"
   ]
  },
  {
   "cell_type": "code",
   "execution_count": null,
   "metadata": {},
   "outputs": [],
   "source": [
    "graphMaleToBoth <- graph_from_data_frame(edgeListMaleToBoth, directed=TRUE, vertices=nodeList)\n",
    "graphMaleToBoth"
   ]
  },
  {
   "cell_type": "code",
   "execution_count": null,
   "metadata": {},
   "outputs": [],
   "source": [
    "graphAll <- graph_from_data_frame(edgeListAll, directed=TRUE, vertices=nodeList)\n",
    "graphAll"
   ]
  },
  {
   "cell_type": "code",
   "execution_count": null,
   "metadata": {},
   "outputs": [],
   "source": [
    "countsFemaleToFemale <- triad_census(graphFemaleToFemale)\n",
    "countsFemaleToFemale"
   ]
  },
  {
   "cell_type": "code",
   "execution_count": null,
   "metadata": {},
   "outputs": [],
   "source": [
    "countsFemaleToMale <- triad_census(graphFemaleToMale)\n",
    "countsFemaleToMale"
   ]
  },
  {
   "cell_type": "code",
   "execution_count": null,
   "metadata": {},
   "outputs": [],
   "source": [
    "countsMaleToMale <- triad_census(graphMaleToMale)\n",
    "countsMaleToMale"
   ]
  },
  {
   "cell_type": "code",
   "execution_count": null,
   "metadata": {},
   "outputs": [],
   "source": [
    "countsFemaleToBoth <- triad_census(graphFemaleToBoth)\n",
    "countsFemaleToBoth"
   ]
  },
  {
   "cell_type": "code",
   "execution_count": null,
   "metadata": {},
   "outputs": [],
   "source": [
    "countsBothToBoth <- triad_census(graphBothToBoth)\n",
    "countsBothToBoth"
   ]
  },
  {
   "cell_type": "code",
   "execution_count": null,
   "metadata": {},
   "outputs": [],
   "source": [
    "graphMaleToBoth"
   ]
  },
  {
   "cell_type": "code",
   "execution_count": null,
   "metadata": {},
   "outputs": [],
   "source": [
    "countsMaleToBoth <- triad_census(graphMaleToBoth)\n",
    "countsMaleToBoth"
   ]
  },
  {
   "cell_type": "code",
   "execution_count": null,
   "metadata": {},
   "outputs": [],
   "source": [
    "countsAll <- triad_census(graphAll)\n",
    "countsAll"
   ]
  },
  {
   "cell_type": "code",
   "execution_count": null,
   "metadata": {},
   "outputs": [],
   "source": [
    "combinedCounts3 <- unname(t(data.frame(countsFemaleToFemale, countsFemaleToMale, countsMaleToMale, countsFemaleToBoth, countsBothToBoth, countsMaleToBoth, countsAll)))\n",
    "combinedCounts3"
   ]
  },
  {
   "cell_type": "code",
   "execution_count": null,
   "metadata": {},
   "outputs": [],
   "source": [
    "nTotal == nFemales + nMales"
   ]
  },
  {
   "cell_type": "code",
   "execution_count": null,
   "metadata": {},
   "outputs": [],
   "source": [
    "sum(countsFemaleToFemale) == choose(nTotal, 3)"
   ]
  },
  {
   "cell_type": "code",
   "execution_count": null,
   "metadata": {},
   "outputs": [],
   "source": [
    "sum(countsFemaleToMale) == choose(nTotal, 3)"
   ]
  },
  {
   "cell_type": "code",
   "execution_count": null,
   "metadata": {},
   "outputs": [],
   "source": [
    "sum(countsMaleToMale) == choose(nTotal, 3)"
   ]
  },
  {
   "cell_type": "code",
   "execution_count": null,
   "metadata": {},
   "outputs": [],
   "source": [
    "sum(countsFemaleToBoth) == choose(nTotal, 3)"
   ]
  },
  {
   "cell_type": "code",
   "execution_count": null,
   "metadata": {},
   "outputs": [],
   "source": [
    "sum(countsBothToBoth) == choose(nTotal, 3)"
   ]
  },
  {
   "cell_type": "code",
   "execution_count": null,
   "metadata": {},
   "outputs": [],
   "source": [
    "sum(countsMaleToBoth) == choose(nTotal, 3)"
   ]
  },
  {
   "cell_type": "code",
   "execution_count": null,
   "metadata": {},
   "outputs": [],
   "source": [
    "sum(countsAll) == choose(nTotal, 3)"
   ]
  },
  {
   "cell_type": "code",
   "execution_count": null,
   "metadata": {},
   "outputs": [],
   "source": [
    "countTotalEquations <- matrix(c(1,0,0,0,1,0,0,0,1,0,0,0,1,0,0,0,0,1,0,0,0,1,0,0,0,1,0,0,0,1,0,0,0,1,0,0,0,1,0,0,0,0,1,0,0,0,1,0,0,0,1,0,0,0,1,0,0,0,1,0,0,0,1,0,0,0,0,1,0,0,0,1,0,0,0,1,0,0,0,1), nrow=4, ncol=20)\n",
    "print(countTotalEquations)"
   ]
  },
  {
   "cell_type": "code",
   "execution_count": null,
   "metadata": {},
   "outputs": [],
   "source": [
    "edgeCountEquations <- matrix(c(0,0,0,0,0,0,1,0,0,0,0,0,2,0,0,0,0,0,3,0,0,0,0,0,0,0,0,0,0,0,0,0,1,0,0,0,0,0,0,0,1,0,0,0,1,0,1,0,0,0,0,0,2,0,0,0,1,0,2,0,0,0,0,0,0,0,0,0,0,0,0,1,0,0,0,1,0,0,0,0,0,0,0,2,0,0,0,1,0,1,0,0,0,1,0,2,0,0,0,0,0,0,0,1,0,0,0,0,0,2,0,0,0,0,0,3,0,0,0,0), nrow=6, ncol=20)\n",
    "print(edgeCountEquations)"
   ]
  },
  {
   "cell_type": "code",
   "execution_count": null,
   "metadata": {},
   "outputs": [],
   "source": [
    "bicouloredFilteredEquations <- matrix(c(1,0,0,0,1,0,0,0,1,0,0,0,1,0,0,0,0,0,0,0,0,1,0,0,0,1,0,0,0,0,0,0,0,0,1,0,0,0,0,0,0,0,0,0,0,0,1,0,0,1,0,0,0,1,0,0,0,0,0,1,0,0,0,0,0,0,0,1,0,0,1,0,0,0,0,0,0,0,0,0,0,1,0,0,0,0,0,0,0,0,0,0,1,0,1,0,0,0,1,0,0,0,0,0,0,0,0,0,1,0,0,0,0,1,0,1,0,0,0,0,0,0,0,0,0,0,0,0,0,0,0,1,0,0,0,0,0,0,1,1,0,0,0,1,0,0,0,0,0,0,0,0,0,0,0,1,0,0,0,1,1,0,0,0,0,0,0,0,0,0,0,0,0,0,0,0,0,0,0,1,1,0,0,0,1,0,0,0,1,0,0,0,1,0,0,0,0,0,0,0,0,1,0,0,0,1,0,0,0,0,0,0,0,0,1,0,0,0,0,0,0,0,0,0,0,0,1,0,0,1,0,0,0,1,0,0,0,0,0,1,0,0,0,0,0,0,0,1,0,0,1,0,0,0,0,0,0,0,0,0,0,1,0,0,0,0,0,0,0,0,1,0,0,0,0,1,0,0,1,0,0,0,0,1,0,0,0,0,0,0,0,1,0,0,0,0,1,0,0,0,0,0,0,0,0,1,0,0,0,0,0,0,0,0,0,0,1,0,0,0,1,0,0,1,0,0,0,0,0,0,0,0,1,0,0,0,0,1,0,0,0,1,0,0,0,0,0,0,0,0,0,0,0,0,1,0,0,0,0,0,1,0,0,0,0,0,0,1,1,0,0,0,0,0,0,0,1,0,0,0,0,1,0,0,0,0,0,0,0,1,0,0,0,0,0,0,0,0,1,0,0,0,0,0,0,0,1,0,0,0,0,0,1,1,0,0,0,0,0,0,0,0,0,0,1,0,0,1,0,0,0,0,0,0,1,0,0,0,0,0,0,0,0,0,0,0,0,1,0,0,1,0,0,0,1,0,0,0,1,0,0,0,1,0,0,0,0,0,0,0,0,1,0,0,0,1,0,0,0,0,0,0,0,0,1,0,0,0,0,0,0,0,0,0,0,1,0,0,0,0,1,0,0,1,0,0,0,0,1,0,0,0,0,0,0,0,1,0,0,0,0,1,0,0,0,0,0,0,0,0,1,0,0,0,0,0,0,0,0,0,1,0,0,0,1,0,0,0,0,1,0,0,1,0,0,0,0,0,0,0,0,0,1,0,0,0,0,1,0,0,0,0,0,0,0,0,1,0,0,0,0,0,0,0,0,1,0,0,0,0,0,1,0,1,0,0,0,0,0,0,1,0,0,0,0,0,1,0,0,0,0,0,0,1,0,0,0,0,0,0,0,0,1,0,0,0,0,0,0,0,1,0,0,0,0,1,0,0,0,1,0,0,0,1,0,0,0,0,0,0,0,0,1,0,0,0,0,0,0,0,1,0,0,0,0,0,0,0,0,0,1,0,0,0,0,1,0,0,0,0,0,1,0,0,1,0,0,0,0,0,1,0,0,0,0,0,0,1,0,0,0,0,0,0,0,0,0,1,0,0,0,0,0,0,0,0,0,0,1,0,1,0,0,0,1,0,0,0,1,0,0,0,1,0,0,0,0,0,0,0,0,1,0,0,0,1,0,0,0,0,0,0,0,0,1,0,0,0,0,0,0,0,0,0,0,1,0,0,0,1,0,0,0,0,1,0,0,1,0,0,0,0,0,0,0,0,0,1,0,0,0,0,1,0,0,0,0,0,0,0,0,1,0,0,0,0,0,0,0,0,1,0,0,0,1,0,0,0,0,0,1,0,1,0,0,0,0,0,0,0,0,0,0,1,0,0,0,0,0,0,0,1,0,0,0,0,0,0,0,0,0,1,0,0,0,1,0,0,0,1,0,0,0,0,0,0,1,1,0,0,0,0,0,0,0,0,0,0,0,1,0,0,0,0,0,0,0,0,1,0,0,0,0,0,0,0,0,0,0,1), nrow=45, ncol=20)\n",
    "print(bicouloredFilteredEquations)"
   ]
  },
  {
   "cell_type": "code",
   "execution_count": null,
   "metadata": {},
   "outputs": [],
   "source": [
    "answerTotalEquations <- function(na, nb){\n",
    "    c((na)*(na-1)*(na-2)/6, (na)*(na-1)*(nb)/2, (na)*(nb)*(nb-1)/2, (nb)*(nb-1)*(nb-2)/6)\n",
    "}"
   ]
  },
  {
   "cell_type": "code",
   "execution_count": null,
   "metadata": {},
   "outputs": [],
   "source": [
    "answerEdgeEquations <- function(na, nb, counts21, counts22, counts23){\n",
    "    c((na-2)*counts21, (nb-2)*counts23, (nb)*counts21, (na)*counts23, (na-1)*counts22, (nb-1)*counts22)\n",
    "}"
   ]
  },
  {
   "cell_type": "code",
   "execution_count": null,
   "metadata": {},
   "outputs": [],
   "source": [
    "filteredCountSelector <- matrix(c(1, 1, 1, 1, 1, 1, 1, 0, 1, 0, 1, 0, 1, 1, 1, 0, 1, 1, 1, 1, 1, 0, 1, 0, 1, 0, 1, 1, 0, 0, 0, 0, 0, 0, 0, 0, 1, 0, 1, 0, 1, 1, 0, 0, 0, 1, 0, 0, 1, 0, 0, 0, 0, 0, 1, 1, 0, 0, 0, 0, 0, 0, 0, 0, 0, 0, 0, 0, 0, 0, 1, 0, 1, 1, 1, 1, 1, 0, 0, 0, 1, 0, 0, 1, 0, 0, 0, 0, 0, 0, 0, 0, 0, 0, 0, 0, 1, 1, 0, 0, 0, 0, 0, 0, 0, 1, 0, 1, 1, 1, 1, 1), nrow=7, ncol=16)\n",
    "print(filteredCountSelector)"
   ]
  },
  {
   "cell_type": "code",
   "execution_count": null,
   "metadata": {},
   "outputs": [],
   "source": [
    "countOrderMap <- c(1,2,3,4,6,5,8,7,9,10,11,13,14,12,15,16)\n",
    "countOrderMap"
   ]
  },
  {
   "cell_type": "code",
   "execution_count": null,
   "metadata": {},
   "outputs": [],
   "source": [
    "answerFilteredEquations <- function(filteredCountSelector, countOrderMap, combinedCounts3){\n",
    "    result <- c()\n",
    "    for (i in 1:7){\n",
    "        for (j in 1:16){\n",
    "            if (filteredCountSelector[i,j]==1){\n",
    "                element <- countOrderMap[j]\n",
    "                result <- c(result, combinedCounts3[i,element])\n",
    "            }\n",
    "        }\n",
    "    }\n",
    "    result\n",
    "}"
   ]
  },
  {
   "cell_type": "code",
   "execution_count": null,
   "metadata": {},
   "outputs": [],
   "source": [
    "answer1 <- answerTotalEquations(nFemales, nMales)\n",
    "answer1"
   ]
  },
  {
   "cell_type": "code",
   "execution_count": null,
   "metadata": {},
   "outputs": [],
   "source": [
    "answer2 <- answerEdgeEquations(nFemales, nMales, edgeCountFemaleToFemale, edgeCountFemaleToMale, edgeCountMaleToMale)\n",
    "answer2"
   ]
  },
  {
   "cell_type": "code",
   "execution_count": null,
   "metadata": {},
   "outputs": [],
   "source": [
    "answer3 <- answerFilteredEquations(filteredCountSelector, countOrderMap, combinedCounts3)\n",
    "answer3"
   ]
  },
  {
   "cell_type": "code",
   "execution_count": null,
   "metadata": {},
   "outputs": [],
   "source": [
    "answers <- c(answer1, answer2, answer3)\n",
    "answers"
   ]
  },
  {
   "cell_type": "code",
   "execution_count": null,
   "metadata": {},
   "outputs": [],
   "source": [
    "allEquations <- rbind(countTotalEquations, edgeCountEquations, bicouloredFilteredEquations)\n",
    "allEquations"
   ]
  },
  {
   "cell_type": "code",
   "execution_count": null,
   "metadata": {},
   "outputs": [],
   "source": [
    "counts3Float <- qr.solve(allEquations, answers)\n",
    "print(counts3Float)\n",
    "counts3 <- round(counts3Float)\n",
    "counts3"
   ]
  },
  {
   "cell_type": "code",
   "execution_count": null,
   "metadata": {},
   "outputs": [],
   "source": [
    "all(allEquations %*% counts3 == answers)"
   ]
  },
  {
   "cell_type": "code",
   "execution_count": null,
   "metadata": {},
   "outputs": [],
   "source": [
    "degreesOfFreedomCompensator <- function(l, s, n){\n",
    "    1/choose(l, 2) * 1/s * choose(n, 2)/choose(n, l)\n",
    "}"
   ]
  },
  {
   "cell_type": "code",
   "execution_count": null,
   "metadata": {},
   "outputs": [],
   "source": [
    "degreesOfFreedomCompensatorValue <- degreesOfFreedomCompensator(3,3,nTotal)\n",
    "degreesOfFreedomCompensatorValue"
   ]
  },
  {
   "cell_type": "code",
   "execution_count": null,
   "metadata": {},
   "outputs": [],
   "source": [
    "logLikelihoodFunction <- function(na,nb,counts,d,ps11,ps12,ps13,ps21,ps22,ps23,ps24){\n",
    "    -(d*counts[1]*log((1-ps11)^3*(1-(3*ps21)/(-2+na+nb))^(-8+3*na)*(1-(3*ps22)/(-2+na+nb))^(3*nb))+d*counts[2]*log(3*(1-ps11)^2*(1-(3*ps21)/(-2+na+nb))^(-5+2*na)*(1-(3*ps22)/(-2+na+nb))^(2*nb)*(1-(1-ps11)*(1-(3*ps21)/(-2+na+nb))^(-3+na)*(1-(3*ps22)/(-2+na+nb))^nb))+d*counts[3]*log(3*(1-ps11)*(1-(3*ps21)/(-2+na+nb))^(-2+na)*(1-(3*ps22)/(-2+na+nb))^nb*(1-(1-ps11)*(1-(3*ps21)/(-2+na+nb))^(-3+na)*(1-(3*ps22)/(-2+na+nb))^nb)^2)+d*counts[4]*log((3*ps21)/(-2+na+nb)+(1-(3*ps21)/(-2+na+nb))*(1-(1-ps11)*(1-(3*ps21)/(-2+na+nb))^(-3+na)*(1-(3*ps22)/(-2+na+nb))^nb)^3)+d*counts[5]*log((1-ps11)*(1-ps12)^2*(1-(3*ps21)/(-2+na+nb))^(-2+na)*(1-(3*ps22)/(-2+na+nb))^(-4+2*na+nb)*(1-(3*ps23)/(-2+na+nb))^(-2+2*nb))+d*counts[6]*log((1-ps12)^2*(1-(3*ps22)/(-2+na+nb))^(-3+2*na)*(1-(1-ps11)*(1-(3*ps21)/(-2+na+nb))^(-2+na)*(1-(3*ps22)/(-2+na+nb))^(-1+nb))*(1-(3*ps23)/(-2+na+nb))^(-2+2*nb))+d*counts[7]*log(2*(1-ps11)*(1-ps12)*(1-(3*ps21)/(-2+na+nb))^(-2+na)*(1-(3*ps22)/(-2+na+nb))^(-2+na+nb)*(1-(3*ps23)/(-2+na+nb))^(-1+nb)*(1-(1-ps12)*(1-(3*ps22)/(-2+na+nb))^(-2+na)*(1-(3*ps23)/(-2+na+nb))^(-1+nb)))+d*counts[8]*log(2*(1-ps12)*(1-(3*ps22)/(-2+na+nb))^(-1+na)*(1-(1-ps11)*(1-(3*ps21)/(-2+na+nb))^(-2+na)*(1-(3*ps22)/(-2+na+nb))^(-1+nb))*(1-(3*ps23)/(-2+na+nb))^(-1+nb)*(1-(1-ps12)*(1-(3*ps22)/(-2+na+nb))^(-2+na)*(1-(3*ps23)/(-2+na+nb))^(-1+nb)))+d*counts[9]*log((1-ps11)*(1-(3*ps21)/(-2+na+nb))^(-2+na)*(1-(3*ps22)/(-2+na+nb))^nb*(1-(1-ps12)*(1-(3*ps22)/(-2+na+nb))^(-2+na)*(1-(3*ps23)/(-2+na+nb))^(-1+nb))^2)+d*counts[10]*log((3*ps22)/(-2+na+nb)+(1-(3*ps22)/(-2+na+nb))*(1-(1-ps11)*(1-(3*ps21)/(-2+na+nb))^(-2+na)*(1-(3*ps22)/(-2+na+nb))^(-1+nb))*(1-(1-ps12)*(1-(3*ps22)/(-2+na+nb))^(-2+na)*(1-(3*ps23)/(-2+na+nb))^(-1+nb))^2)+d*counts[11]*log((1-ps12)^2*(1-ps13)*(1-(3*ps22)/(-2+na+nb))^(-2+2*na)*(1-(3*ps23)/(-2+na+nb))^(-4+na+2*nb)*(1-(3*ps24)/(-2+na+nb))^(-2+nb))+d*counts[12]*log(2*(1-ps12)*(1-ps13)*(1-(3*ps22)/(-2+na+nb))^(-1+na)*(1-(3*ps23)/(-2+na+nb))^(-2+na+nb)*(1-(1-ps12)*(1-(3*ps22)/(-2+na+nb))^(-1+na)*(1-(3*ps23)/(-2+na+nb))^(-2+nb))*(1-(3*ps24)/(-2+na+nb))^(-2+nb))+d*counts[14]*log((1-ps13)*(1-(3*ps23)/(-2+na+nb))^na*(1-(1-ps12)*(1-(3*ps22)/(-2+na+nb))^(-1+na)*(1-(3*ps23)/(-2+na+nb))^(-2+nb))^2*(1-(3*ps24)/(-2+na+nb))^(-2+nb))+d*counts[17]*log((1-ps13)^3*(1-(3*ps23)/(-2+na+nb))^(3*na)*(1-(3*ps24)/(-2+na+nb))^(-8+3*nb))+d*counts[18]*log(3*(1-ps13)^2*(1-(3*ps23)/(-2+na+nb))^(2*na)*(1-(3*ps24)/(-2+na+nb))^(-5+2*nb)*(1-(1-ps13)*(1-(3*ps23)/(-2+na+nb))^na*(1-(3*ps24)/(-2+na+nb))^(-3+nb)))+d*counts[19]*log(3*(1-ps13)*(1-(3*ps23)/(-2+na+nb))^na*(1-(3*ps24)/(-2+na+nb))^(-2+nb)*(1-(1-ps13)*(1-(3*ps23)/(-2+na+nb))^na*(1-(3*ps24)/(-2+na+nb))^(-3+nb))^2)+d*counts[13]*log((1-ps12)^2*(1-(3*ps22)/(-2+na+nb))^(-2+2*na)*(1-(3*ps23)/(-2+na+nb))^(-3+2*nb)*(1-(1-ps13)*(1-(3*ps23)/(-2+na+nb))^(-1+na)*(1-(3*ps24)/(-2+na+nb))^(-2+nb)))+d*counts[15]*log(2*(1-ps12)*(1-(3*ps22)/(-2+na+nb))^(-1+na)*(1-(3*ps23)/(-2+na+nb))^(-1+nb)*(1-(1-ps12)*(1-(3*ps22)/(-2+na+nb))^(-1+na)*(1-(3*ps23)/(-2+na+nb))^(-2+nb))*(1-(1-ps13)*(1-(3*ps23)/(-2+na+nb))^(-1+na)*(1-(3*ps24)/(-2+na+nb))^(-2+nb)))+d*counts[20]*log((3*ps24)/(-2+na+nb)+(1-(3*ps24)/(-2+na+nb))*(1-(1-ps13)*(1-(3*ps23)/(-2+na+nb))^na*(1-(3*ps24)/(-2+na+nb))^(-3+nb))^3)+d*counts[16]*log((3*ps23)/(-2+na+nb)+(1-(3*ps23)/(-2+na+nb))*(1-(1-ps12)*(1-(3*ps22)/(-2+na+nb))^(-1+na)*(1-(3*ps23)/(-2+na+nb))^(-2+nb))^2*(1-(1-ps13)*(1-(3*ps23)/(-2+na+nb))^(-1+na)*(1-(3*ps24)/(-2+na+nb))^(-2+nb))))\n",
    "}"
   ]
  },
  {
   "cell_type": "code",
   "execution_count": null,
   "metadata": {},
   "outputs": [],
   "source": [
    "fit <- mle(logLikelihoodFunction, fixed=list(na=nFemales,nb=nMales,counts=counts3,d=degreesOfFreedomCompensatorValue), start=list(ps11=0.001,ps12=0.001,ps13=0.001,ps21=0.0001,ps22=0.0001,ps23=0.0001,ps24=0.0001), method=\"L-BFGS-B\", lower=rep(1e-10,7), upper=rep(0.2,7))\n",
    "fit\n",
    "summary(fit)"
   ]
  },
  {
   "cell_type": "markdown",
   "metadata": {},
   "source": [
    "End of _Jupyter Notebook_."
   ]
  }
 ],
 "metadata": {
  "kernelspec": {
   "display_name": "R",
   "language": "R",
   "name": "ir"
  },
  "language_info": {
   "codemirror_mode": "r",
   "file_extension": ".r",
   "mimetype": "text/x-r-source",
   "name": "R",
   "pygments_lexer": "r",
   "version": "3.5.1"
  }
 },
 "nbformat": 4,
 "nbformat_minor": 2
}
